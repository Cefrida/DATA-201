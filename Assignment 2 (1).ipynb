{
 "cells": [
  {
   "cell_type": "markdown",
   "id": "5ba1e6dc",
   "metadata": {},
   "source": [
    "**The following notebook contains the code I used to answer a series of questions about the winequality_red data.**"
   ]
  },
  {
   "cell_type": "code",
   "execution_count": 2,
   "id": "ba76d278",
   "metadata": {},
   "outputs": [],
   "source": [
    "\n",
    "import pandas as pd\n",
    "import numpy as np\n",
    "import matplotlib.pyplot as plt\n",
    "import seaborn as sns\n",
    "from sklearn.decomposition import PCA\n",
    "from intro_Data_4_1 import *\n",
    "from sklearn.preprocessing import StandardScaler as SS\n",
    "from sklearn.linear_model import LogisticRegression as LR\n",
    "from sklearn.ensemble import RandomForestClassifier as RFC\n",
    "\n",
    "from intro_Data_4_3 import *\n",
    "from sklearn.datasets import load_iris as li\n",
    "\n",
    "\n",
    "work = pd.read_csv('./data/winequality_red.csv', sep=';')"
   ]
  },
  {
   "cell_type": "code",
   "execution_count": 3,
   "id": "add554a0",
   "metadata": {},
   "outputs": [],
   "source": [
    "newX = work.drop(columns = ['quality'])\n",
    "y = work['quality'].values\n",
    "X = np.array(newX)"
   ]
  },
  {
   "cell_type": "code",
   "execution_count": 4,
   "id": "ba043bac",
   "metadata": {},
   "outputs": [],
   "source": [
    "#question 5"
   ]
  },
  {
   "cell_type": "code",
   "execution_count": 5,
   "id": "f8f6991c",
   "metadata": {},
   "outputs": [],
   "source": [
    "from sklearn.model_selection import train_test_split as tts\n",
    "Xtrain,Xtest,ytrain,ytest = tts(X, y, test_size=0.4, random_state=146)"
   ]
  },
  {
   "cell_type": "code",
   "execution_count": 45,
   "id": "ba505851",
   "metadata": {},
   "outputs": [
    {
     "name": "stdout",
     "output_type": "stream",
     "text": [
      "Train accuracy is:  1.0\n",
      "Test accuracy = 0.63\n"
     ]
    },
    {
     "data": {
      "text/plain": [
       "0.6265625"
      ]
     },
     "execution_count": 45,
     "metadata": {},
     "output_type": "execute_result"
    }
   ],
   "source": [
    "from sklearn.tree import DecisionTreeClassifier as DTC\n",
    "\n",
    "dtc = DTC(random_state = 146) # 4 is optimal for decision tree\n",
    "dtc.fit(Xtrain, ytrain)\n",
    "print(\"Train accuracy is: \", dtc.score(Xtrain,ytrain))\n",
    "y_pred = dtc.predict(Xtest)\n",
    "conf_matrix, accuracy = compare_classes(ytest, y_pred)\n",
    "conf_matrix\n",
    "accuracy = dtc.score(Xtest, ytest)\n",
    "accuracy"
   ]
  },
  {
   "cell_type": "code",
   "execution_count": null,
   "id": "1ef3246e",
   "metadata": {},
   "outputs": [],
   "source": []
  },
  {
   "cell_type": "code",
   "execution_count": 46,
   "id": "310ed4a2",
   "metadata": {},
   "outputs": [
    {
     "data": {
      "text/plain": [
       "array([[  1,   0,   1,   0,   0,   0],\n",
       "       [  0,   3,  12,  11,   1,   0],\n",
       "       [  1,   5, 183,  63,   3,   0],\n",
       "       [  0,   2,  62, 163,  27,   0],\n",
       "       [  0,   1,   9,  35,  50,   0],\n",
       "       [  0,   1,   0,   4,   1,   1]])"
      ]
     },
     "execution_count": 46,
     "metadata": {},
     "output_type": "execute_result"
    }
   ],
   "source": [
    "from sklearn.metrics import confusion_matrix as CM\n",
    "conf_matrix2 = CM(ytest, y_pred)\n",
    "conf_matrix2"
   ]
  },
  {
   "cell_type": "code",
   "execution_count": 47,
   "id": "bf86e2de",
   "metadata": {
    "scrolled": true
   },
   "outputs": [
    {
     "data": {
      "text/plain": [
       "0.6265625"
      ]
     },
     "execution_count": 47,
     "metadata": {},
     "output_type": "execute_result"
    }
   ],
   "source": [
    "accuracy = dtc.score(Xtest, ytest)\n",
    "accuracy"
   ]
  },
  {
   "cell_type": "code",
   "execution_count": 50,
   "id": "2ce0bbd4",
   "metadata": {},
   "outputs": [
    {
     "name": "stdout",
     "output_type": "stream",
     "text": [
      "Train accuracy is:  0.7247132429614181\n",
      "Test accuracy = 0.65\n"
     ]
    },
    {
     "data": {
      "text/plain": [
       "0.6453125"
      ]
     },
     "execution_count": 50,
     "metadata": {},
     "output_type": "execute_result"
    }
   ],
   "source": [
    "#100\n",
    "rfc = RFC(random_state = 146, n_estimators = 100) # 5 is optimal for random forrest\n",
    "rfc.fit(Xtrain, ytrain)\n",
    "print(\"Train accuracy is: \", rfc_100.score(Xtrain,ytrain))\n",
    "y_pred = rfc.predict(Xtest)\n",
    "conf_matrix, accuracy = compare_classes(ytest, y_pred)\n",
    "conf_matrix\n",
    "accuracy = rfc.score(Xtest, ytest)\n",
    "accuracy"
   ]
  },
  {
   "cell_type": "code",
   "execution_count": 51,
   "id": "27a03738",
   "metadata": {},
   "outputs": [
    {
     "data": {
      "text/plain": [
       "array([[  0,   0,   2,   0,   0,   0],\n",
       "       [  0,   0,  22,   5,   0,   0],\n",
       "       [  0,   0, 203,  50,   2,   0],\n",
       "       [  0,   0,  65, 173,  16,   0],\n",
       "       [  0,   0,   7,  51,  37,   0],\n",
       "       [  0,   0,   0,   3,   4,   0]])"
      ]
     },
     "execution_count": 51,
     "metadata": {},
     "output_type": "execute_result"
    }
   ],
   "source": [
    "from sklearn.metrics import confusion_matrix as CM\n",
    "conf_matrix2 = CM(ytest, y_pred)\n",
    "conf_matrix2"
   ]
  },
  {
   "cell_type": "code",
   "execution_count": 14,
   "id": "0ee5a99d",
   "metadata": {},
   "outputs": [
    {
     "name": "stdout",
     "output_type": "stream",
     "text": [
      "Train accuracy is:  0.7122002085505735\n",
      "Test accuracy = 0.59\n"
     ]
    },
    {
     "data": {
      "text/plain": [
       "0.590625"
      ]
     },
     "execution_count": 14,
     "metadata": {},
     "output_type": "execute_result"
    }
   ],
   "source": [
    "#500\n",
    "rfc = RFC(random_state = 146, n_estimators = 500, max_depth = 5) # 5 is optimal for random forrest\n",
    "rfc.fit(Xtrain, ytrain)\n",
    "print(\"Train accuracy is: \", rfc.score(Xtrain,ytrain))\n",
    "y_pred = rfc.predict(Xtest)\n",
    "conf_matrix, accuracy = compare_classes(ytest, y_pred)\n",
    "conf_matrix\n",
    "accuracy = rfc.score(Xtest, ytest)\n",
    "accuracy"
   ]
  },
  {
   "cell_type": "code",
   "execution_count": 15,
   "id": "6253d719",
   "metadata": {},
   "outputs": [
    {
     "name": "stdout",
     "output_type": "stream",
     "text": [
      "Train accuracy is:  0.7174139728884255\n",
      "Test accuracy = 0.59\n"
     ]
    },
    {
     "data": {
      "text/plain": [
       "0.5921875"
      ]
     },
     "execution_count": 15,
     "metadata": {},
     "output_type": "execute_result"
    }
   ],
   "source": [
    "#1000\n",
    "rfc = RFC(random_state = 146, n_estimators = 1000, max_depth = 5) # 5 is optimal for random forrest\n",
    "rfc.fit(Xtrain, ytrain)\n",
    "print(\"Train accuracy is: \", rfc.score(Xtrain,ytrain))\n",
    "y_pred = rfc.predict(Xtest)\n",
    "conf_matrix, accuracy = compare_classes(ytest, y_pred)\n",
    "conf_matrix\n",
    "accuracy = rfc.score(Xtest, ytest)\n",
    "accuracy"
   ]
  },
  {
   "cell_type": "code",
   "execution_count": 16,
   "id": "c5a3f066",
   "metadata": {},
   "outputs": [
    {
     "name": "stdout",
     "output_type": "stream",
     "text": [
      "Train accuracy is:  0.7194994786235662\n",
      "Test accuracy = 0.59\n"
     ]
    },
    {
     "data": {
      "text/plain": [
       "0.5921875"
      ]
     },
     "execution_count": 16,
     "metadata": {},
     "output_type": "execute_result"
    }
   ],
   "source": [
    "#5000\n",
    "rfc = RFC(random_state = 146, n_estimators = 5000, max_depth = 5) # 5 is optimal for random forrest\n",
    "rfc.fit(Xtrain, ytrain)\n",
    "print(\"Train accuracy is: \", rfc.score(Xtrain,ytrain))\n",
    "y_pred = rfc.predict(Xtest)\n",
    "conf_matrix, accuracy = compare_classes(ytest, y_pred)\n",
    "conf_matrix\n",
    "accuracy = rfc.score(Xtest, ytest)\n",
    "accuracy"
   ]
  },
  {
   "cell_type": "code",
   "execution_count": 12,
   "id": "e3d2c359",
   "metadata": {},
   "outputs": [],
   "source": [
    "#question 6"
   ]
  },
  {
   "cell_type": "code",
   "execution_count": 13,
   "id": "9fb75a03",
   "metadata": {},
   "outputs": [],
   "source": [
    "#compared confusion matrix for DTC and RF"
   ]
  },
  {
   "cell_type": "code",
   "execution_count": 14,
   "id": "c28cd6b4",
   "metadata": {},
   "outputs": [],
   "source": [
    "#question 7 "
   ]
  },
  {
   "cell_type": "code",
   "execution_count": 28,
   "id": "9fe99981",
   "metadata": {},
   "outputs": [],
   "source": [
    "from sklearn.model_selection import train_test_split as tts\n",
    "Xtrain,Xtest,ytrain,ytest = tts(X, y, test_size=0.4, random_state=146)"
   ]
  },
  {
   "cell_type": "code",
   "execution_count": 52,
   "id": "e2e2cb24",
   "metadata": {},
   "outputs": [
    {
     "name": "stdout",
     "output_type": "stream",
     "text": [
      "[0.6453125, 0.6546875, 0.6390625, 0.6515625, 0.646875, 0.6484375, 0.6390625, 0.6359375]\n"
     ]
    }
   ],
   "source": [
    "min_samples = np.arange(2,10) #2-9, will not include 10 \n",
    "\n",
    "\n",
    "train = []\n",
    "test = []\n",
    "accuracy_list = []\n",
    "#accuracy_list = []\n",
    "for m in min_samples:\n",
    "    rfc = RFC(n_estimators = 100,min_samples_split = m, random_state=146)\n",
    "    rfc.fit(Xtrain, ytrain)\n",
    "    #print(\"Train accuracy is: \", rfc.score(Xtrain,ytrain))\n",
    "    y_pred = rfc.predict(Xtest)\n",
    "    \n",
    "    accuracy = rfc.score(Xtest, ytest) #question 8\n",
    "    accuracy_list.append(accuracy)\n",
    "\n",
    "print(accuracy_list)\n",
    "    \n"
   ]
  },
  {
   "cell_type": "code",
   "execution_count": null,
   "id": "ced94f64",
   "metadata": {},
   "outputs": [],
   "source": []
  },
  {
   "cell_type": "code",
   "execution_count": null,
   "id": "9db73ebc",
   "metadata": {},
   "outputs": [],
   "source": [
    "#question 8 "
   ]
  },
  {
   "cell_type": "code",
   "execution_count": 61,
   "id": "425d497e",
   "metadata": {},
   "outputs": [
    {
     "name": "stdout",
     "output_type": "stream",
     "text": [
      "Train accuracy is:  0.9228362877997914\n",
      "Test accuracy = 0.64\n"
     ]
    },
    {
     "data": {
      "text/html": [
       "<div>\n",
       "<style scoped>\n",
       "    .dataframe tbody tr th:only-of-type {\n",
       "        vertical-align: middle;\n",
       "    }\n",
       "\n",
       "    .dataframe tbody tr th {\n",
       "        vertical-align: top;\n",
       "    }\n",
       "\n",
       "    .dataframe thead th {\n",
       "        text-align: right;\n",
       "    }\n",
       "</style>\n",
       "<table border=\"1\" class=\"dataframe\">\n",
       "  <thead>\n",
       "    <tr style=\"text-align: right;\">\n",
       "      <th>Predicted</th>\n",
       "      <th>5</th>\n",
       "      <th>6</th>\n",
       "      <th>7</th>\n",
       "    </tr>\n",
       "    <tr>\n",
       "      <th>Actual</th>\n",
       "      <th></th>\n",
       "      <th></th>\n",
       "      <th></th>\n",
       "    </tr>\n",
       "  </thead>\n",
       "  <tbody>\n",
       "    <tr>\n",
       "      <th>3</th>\n",
       "      <td>2</td>\n",
       "      <td>0</td>\n",
       "      <td>0</td>\n",
       "    </tr>\n",
       "    <tr>\n",
       "      <th>4</th>\n",
       "      <td>22</td>\n",
       "      <td>5</td>\n",
       "      <td>0</td>\n",
       "    </tr>\n",
       "    <tr>\n",
       "      <th>5</th>\n",
       "      <td>207</td>\n",
       "      <td>47</td>\n",
       "      <td>1</td>\n",
       "    </tr>\n",
       "    <tr>\n",
       "      <th>6</th>\n",
       "      <td>73</td>\n",
       "      <td>169</td>\n",
       "      <td>12</td>\n",
       "    </tr>\n",
       "    <tr>\n",
       "      <th>7</th>\n",
       "      <td>7</td>\n",
       "      <td>57</td>\n",
       "      <td>31</td>\n",
       "    </tr>\n",
       "    <tr>\n",
       "      <th>8</th>\n",
       "      <td>0</td>\n",
       "      <td>3</td>\n",
       "      <td>4</td>\n",
       "    </tr>\n",
       "  </tbody>\n",
       "</table>\n",
       "</div>"
      ],
      "text/plain": [
       "Predicted    5    6   7\n",
       "Actual                 \n",
       "3            2    0   0\n",
       "4           22    5   0\n",
       "5          207   47   1\n",
       "6           73  169  12\n",
       "7            7   57  31\n",
       "8            0    3   4"
      ]
     },
     "execution_count": 61,
     "metadata": {},
     "output_type": "execute_result"
    }
   ],
   "source": [
    "rfc = RFC(random_state = 146, n_estimators = 100, min_samples_split = 9) # 5 is optimal for random forrest\n",
    "rfc.fit(Xtrain, ytrain)\n",
    "print(\"Train accuracy is: \", rfc.score(Xtrain,ytrain))\n",
    "conf_matrix, accuracy = compare_classes(ytest, rfc.predict(Xtest))\n",
    "conf_matrix"
   ]
  },
  {
   "cell_type": "code",
   "execution_count": null,
   "id": "d04e61b4",
   "metadata": {},
   "outputs": [],
   "source": [
    "# question 9"
   ]
  },
  {
   "cell_type": "code",
   "execution_count": 37,
   "id": "1578d47b",
   "metadata": {},
   "outputs": [
    {
     "data": {
      "text/plain": [
       "GridSearchCV(cv=KFold(n_splits=5, random_state=146, shuffle=True),\n",
       "             estimator=RandomForestClassifier(random_state=146),\n",
       "             param_grid={'max_depth': [2, 3, 4, 5, 6, 7, 8, 9, 10],\n",
       "                         'min_samples_split': [2, 3, 4, 5],\n",
       "                         'n_estimators': [100]},\n",
       "             scoring='accuracy')"
      ]
     },
     "execution_count": 37,
     "metadata": {},
     "output_type": "execute_result"
    }
   ],
   "source": [
    "from sklearn.model_selection import KFold, GridSearchCV\n",
    "\n",
    "# create a grid of parameter values\n",
    "param_grid_rfc = dict(n_estimators=[100],max_depth = [2,3,4,5,6,7,8,9,10],min_samples_split= [2, 3, 4, 5]) #IF YOU DONT MAKE IT WONT WORK; must be a DICTIONARY\n",
    "# specify how you want to do the cross-validation\n",
    "cv = KFold(n_splits=5, random_state=146, shuffle = True)\n",
    "grid_rfc = GridSearchCV(RFC(random_state = 146), param_grid=param_grid_rfc, cv=cv, \n",
    "                    scoring='accuracy')\n",
    "\n",
    "# perform grid search (what is this really doing?)\n",
    "grid_rfc.fit(X, y)"
   ]
  },
  {
   "cell_type": "code",
   "execution_count": 38,
   "id": "b5111f1e",
   "metadata": {},
   "outputs": [
    {
     "name": "stdout",
     "output_type": "stream",
     "text": [
      "The best parameters are {'max_depth': 10, 'min_samples_split': 4, 'n_estimators': 100} with a score of 0.69\n"
     ]
    }
   ],
   "source": [
    "print(\n",
    "    f'The best parameters are {grid_rfc.best_params_} with a score of {grid_rfc.best_score_:.2f}'\n",
    ")"
   ]
  },
  {
   "cell_type": "code",
   "execution_count": null,
   "id": "f27a0716",
   "metadata": {},
   "outputs": [],
   "source": []
  },
  {
   "cell_type": "code",
   "execution_count": null,
   "id": "5cc487b0",
   "metadata": {},
   "outputs": [],
   "source": []
  },
  {
   "cell_type": "code",
   "execution_count": null,
   "id": "411e6e30",
   "metadata": {},
   "outputs": [],
   "source": [
    "#question 10"
   ]
  },
  {
   "cell_type": "code",
   "execution_count": 75,
   "id": "51398c13",
   "metadata": {},
   "outputs": [
    {
     "name": "stdout",
     "output_type": "stream",
     "text": [
      "Test accuracy = 0.63\n"
     ]
    },
    {
     "data": {
      "text/plain": [
       "0.6296875"
      ]
     },
     "execution_count": 75,
     "metadata": {},
     "output_type": "execute_result"
    }
   ],
   "source": [
    "#optimized paramaters : score = 0.63\n",
    "rfc = RFC(random_state = 146, n_estimators = 100, max_depth = 10, min_samples_split = 4) # 5 is optimal for random forrest\n",
    "rfc.fit(Xtrain, ytrain)\n",
    "\n",
    "y_pred = rfc.predict(Xtest)\n",
    "\n",
    "accuracy = compare_classes(ytest, y_pred)\n",
    "\n",
    "accuracy = rfc.score(Xtest, ytest)\n",
    "accuracy"
   ]
  },
  {
   "cell_type": "code",
   "execution_count": 76,
   "id": "8ad05a6d",
   "metadata": {},
   "outputs": [
    {
     "name": "stdout",
     "output_type": "stream",
     "text": [
      "Test accuracy = 0.60\n"
     ]
    },
    {
     "data": {
      "text/plain": [
       "0.5953125"
      ]
     },
     "execution_count": 76,
     "metadata": {},
     "output_type": "execute_result"
    }
   ],
   "source": [
    "#default parameters: score= 0.6\n",
    "rfc = RFC(random_state = 146, n_estimators = 100, max_depth = 5) # 5 is optimal for random forrest #should I have included min_samples_split>\n",
    "rfc.fit(Xtrain, ytrain)\n",
    "\n",
    "y_pred = rfc.predict(Xtest)\n",
    "\n",
    "accuracy = compare_classes(ytest, y_pred)\n",
    "\n",
    "accuracy = rfc.score(Xtest, ytest)\n",
    "accuracy"
   ]
  },
  {
   "cell_type": "code",
   "execution_count": 74,
   "id": "c8001839",
   "metadata": {},
   "outputs": [
    {
     "ename": "NameError",
     "evalue": "name 'k' is not defined",
     "output_type": "error",
     "traceback": [
      "\u001b[0;31m---------------------------------------------------------------------------\u001b[0m",
      "\u001b[0;31mNameError\u001b[0m                                 Traceback (most recent call last)",
      "Input \u001b[0;32mIn [74]\u001b[0m, in \u001b[0;36m<cell line: 12>\u001b[0;34m()\u001b[0m\n\u001b[1;32m     12\u001b[0m \u001b[38;5;28;01mfor\u001b[39;00m m \u001b[38;5;129;01min\u001b[39;00m min_samples_split:\n\u001b[1;32m     13\u001b[0m     rfc \u001b[38;5;241m=\u001b[39m RFC(n_estimators \u001b[38;5;241m=\u001b[39m \u001b[38;5;241m100\u001b[39m, max_depth \u001b[38;5;241m=\u001b[39m \u001b[38;5;241m10\u001b[39m, min_samples_split \u001b[38;5;241m=\u001b[39m \u001b[38;5;241m4\u001b[39m, random_state\u001b[38;5;241m=\u001b[39m\u001b[38;5;241m146\u001b[39m)\n\u001b[0;32m---> 14\u001b[0m     tr,te  \u001b[38;5;241m=\u001b[39m do_Kfold(rfc,X,y,\u001b[43mk\u001b[49m)\n\u001b[1;32m     15\u001b[0m     train\u001b[38;5;241m.\u001b[39mappend(np\u001b[38;5;241m.\u001b[39mmean(tr))\n\u001b[1;32m     16\u001b[0m     test\u001b[38;5;241m.\u001b[39mappend(np\u001b[38;5;241m.\u001b[39mmean(te))\n",
      "\u001b[0;31mNameError\u001b[0m: name 'k' is not defined"
     ]
    }
   ],
   "source": [
    "#mean test accuracy (from above) Average for validation: 0.62\n",
    "\n",
    "#0.6161330581761006\n",
    "\n",
    "#2-9, will not include 10 \n",
    "\n",
    "\n",
    "train = []\n",
    "test = []\n",
    "\n",
    "accuracy_list = []\n",
    "for m in min_samples_split:\n",
    "    rfc = RFC(n_estimators = 100, max_depth = 10, min_samples_split = 4, random_state=146)\n",
    "    tr,te  = do_Kfold(rfc,X,y,k)\n",
    "    train.append(np.mean(tr))\n",
    "    test.append(np.mean(te))\n",
    "    #print(tr[5]) \n",
    "    \n",
    "    accuracy = rfc.score(Xtest, ytest) #question 8\n",
    "    accuracy_list.append(accuracy)\n",
    "    #print(accuracy)"
   ]
  },
  {
   "cell_type": "code",
   "execution_count": null,
   "id": "247ef968",
   "metadata": {},
   "outputs": [],
   "source": [
    "print('Average for validation:', format(np.mean(accuracy)))"
   ]
  },
  {
   "cell_type": "code",
   "execution_count": null,
   "id": "0f061fcf",
   "metadata": {},
   "outputs": [],
   "source": [
    "# question 11/12 "
   ]
  },
  {
   "cell_type": "code",
   "execution_count": 77,
   "id": "92eb2813",
   "metadata": {},
   "outputs": [
    {
     "name": "stdout",
     "output_type": "stream",
     "text": [
      "Test accuracy = 0.63\n"
     ]
    },
    {
     "data": {
      "text/plain": [
       "0.6296875"
      ]
     },
     "execution_count": 77,
     "metadata": {},
     "output_type": "execute_result"
    }
   ],
   "source": [
    "rfc = RFC(random_state = 146, n_estimators = 100, max_depth = 10, min_samples_split = 4) # 5 is optimal for random forrest\n",
    "rfc.fit(Xtrain, ytrain)\n",
    "\n",
    "y_pred = rfc.predict(Xtest)\n",
    "\n",
    "accuracy = compare_classes(ytest, y_pred)\n",
    "\n",
    "accuracy = rfc.score(Xtest, ytest)\n",
    "accuracy"
   ]
  },
  {
   "cell_type": "code",
   "execution_count": null,
   "id": "3ee53b5b",
   "metadata": {},
   "outputs": [],
   "source": [
    "rfc.predict(Xtest[0].reshape(-1,1))"
   ]
  },
  {
   "cell_type": "code",
   "execution_count": null,
   "id": "31e8de49",
   "metadata": {},
   "outputs": [],
   "source": [
    "#question 11"
   ]
  },
  {
   "cell_type": "code",
   "execution_count": 78,
   "id": "89460149",
   "metadata": {},
   "outputs": [],
   "source": [
    "X_mean = np.mean(X, axis =0)"
   ]
  },
  {
   "cell_type": "code",
   "execution_count": 80,
   "id": "be2dfe66",
   "metadata": {},
   "outputs": [
    {
     "data": {
      "text/plain": [
       "array([ 8.31963727,  0.52782051,  0.27097561,  2.5388055 ,  0.08746654,\n",
       "       15.87492183, 46.46779237,  0.99674668,  3.3111132 ,  0.65814884,\n",
       "       10.42298311])"
      ]
     },
     "execution_count": 80,
     "metadata": {},
     "output_type": "execute_result"
    }
   ],
   "source": [
    "X_mean"
   ]
  },
  {
   "cell_type": "code",
   "execution_count": 82,
   "id": "8b9d78be",
   "metadata": {},
   "outputs": [
    {
     "data": {
      "text/plain": [
       "array([[0.00060257, 0.00884662, 0.38687751, 0.55032794, 0.0514418 ,\n",
       "        0.00190356]])"
      ]
     },
     "execution_count": 82,
     "metadata": {},
     "output_type": "execute_result"
    }
   ],
   "source": [
    "rfc.predict_proba(X_mean.reshape(1,-1))"
   ]
  },
  {
   "cell_type": "code",
   "execution_count": null,
   "id": "c318800c",
   "metadata": {},
   "outputs": [],
   "source": []
  }
 ],
 "metadata": {
  "kernelspec": {
   "display_name": "Python 3 (ipykernel)",
   "language": "python",
   "name": "python3"
  },
  "language_info": {
   "codemirror_mode": {
    "name": "ipython",
    "version": 3
   },
   "file_extension": ".py",
   "mimetype": "text/x-python",
   "name": "python",
   "nbconvert_exporter": "python",
   "pygments_lexer": "ipython3",
   "version": "3.9.12"
  }
 },
 "nbformat": 4,
 "nbformat_minor": 5
}
