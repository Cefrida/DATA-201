{
 "cells": [
  {
   "cell_type": "markdown",
   "id": "5957314a",
   "metadata": {},
   "source": [
    "**The following notebook is code used in my midterm where we were asked to create models and answer a series of questions using california housing data**"
   ]
  },
  {
   "cell_type": "code",
   "execution_count": 1,
   "id": "f52bd0ed",
   "metadata": {},
   "outputs": [],
   "source": [
    "from sklearn.datasets import fetch_california_housing \n",
    "import pandas as pd\n",
    "import numpy as np\n",
    "import seaborn as sns\n",
    "import matplotlib.pyplot as plt\n",
    "from sklearn.decomposition import PCA\n",
    "from sklearn.decomposition import PCA\n",
    "from sklearn.preprocessing import StandardScaler as SS"
   ]
  },
  {
   "cell_type": "code",
   "execution_count": 4,
   "id": "a1a80999",
   "metadata": {},
   "outputs": [],
   "source": [
    "#21"
   ]
  },
  {
   "cell_type": "code",
   "execution_count": 5,
   "id": "72b766fe",
   "metadata": {},
   "outputs": [],
   "source": [
    "\n",
    "\n",
    "california = fetch_california_housing()\n",
    "ca_housing = pd.DataFrame(data=california.data, columns=california.feature_names) #data frame with features\n"
   ]
  },
  {
   "cell_type": "code",
   "execution_count": 6,
   "id": "a6064abd",
   "metadata": {},
   "outputs": [
    {
     "data": {
      "text/html": [
       "<div>\n",
       "<style scoped>\n",
       "    .dataframe tbody tr th:only-of-type {\n",
       "        vertical-align: middle;\n",
       "    }\n",
       "\n",
       "    .dataframe tbody tr th {\n",
       "        vertical-align: top;\n",
       "    }\n",
       "\n",
       "    .dataframe thead th {\n",
       "        text-align: right;\n",
       "    }\n",
       "</style>\n",
       "<table border=\"1\" class=\"dataframe\">\n",
       "  <thead>\n",
       "    <tr style=\"text-align: right;\">\n",
       "      <th></th>\n",
       "      <th>MedInc</th>\n",
       "      <th>HouseAge</th>\n",
       "      <th>AveRooms</th>\n",
       "      <th>AveBedrms</th>\n",
       "      <th>Population</th>\n",
       "      <th>AveOccup</th>\n",
       "      <th>Latitude</th>\n",
       "      <th>Longitude</th>\n",
       "    </tr>\n",
       "  </thead>\n",
       "  <tbody>\n",
       "    <tr>\n",
       "      <th>0</th>\n",
       "      <td>8.3252</td>\n",
       "      <td>41.0</td>\n",
       "      <td>6.984127</td>\n",
       "      <td>1.023810</td>\n",
       "      <td>322.0</td>\n",
       "      <td>2.555556</td>\n",
       "      <td>37.88</td>\n",
       "      <td>-122.23</td>\n",
       "    </tr>\n",
       "    <tr>\n",
       "      <th>1</th>\n",
       "      <td>8.3014</td>\n",
       "      <td>21.0</td>\n",
       "      <td>6.238137</td>\n",
       "      <td>0.971880</td>\n",
       "      <td>2401.0</td>\n",
       "      <td>2.109842</td>\n",
       "      <td>37.86</td>\n",
       "      <td>-122.22</td>\n",
       "    </tr>\n",
       "    <tr>\n",
       "      <th>2</th>\n",
       "      <td>7.2574</td>\n",
       "      <td>52.0</td>\n",
       "      <td>8.288136</td>\n",
       "      <td>1.073446</td>\n",
       "      <td>496.0</td>\n",
       "      <td>2.802260</td>\n",
       "      <td>37.85</td>\n",
       "      <td>-122.24</td>\n",
       "    </tr>\n",
       "    <tr>\n",
       "      <th>3</th>\n",
       "      <td>5.6431</td>\n",
       "      <td>52.0</td>\n",
       "      <td>5.817352</td>\n",
       "      <td>1.073059</td>\n",
       "      <td>558.0</td>\n",
       "      <td>2.547945</td>\n",
       "      <td>37.85</td>\n",
       "      <td>-122.25</td>\n",
       "    </tr>\n",
       "    <tr>\n",
       "      <th>4</th>\n",
       "      <td>3.8462</td>\n",
       "      <td>52.0</td>\n",
       "      <td>6.281853</td>\n",
       "      <td>1.081081</td>\n",
       "      <td>565.0</td>\n",
       "      <td>2.181467</td>\n",
       "      <td>37.85</td>\n",
       "      <td>-122.25</td>\n",
       "    </tr>\n",
       "    <tr>\n",
       "      <th>...</th>\n",
       "      <td>...</td>\n",
       "      <td>...</td>\n",
       "      <td>...</td>\n",
       "      <td>...</td>\n",
       "      <td>...</td>\n",
       "      <td>...</td>\n",
       "      <td>...</td>\n",
       "      <td>...</td>\n",
       "    </tr>\n",
       "    <tr>\n",
       "      <th>20635</th>\n",
       "      <td>1.5603</td>\n",
       "      <td>25.0</td>\n",
       "      <td>5.045455</td>\n",
       "      <td>1.133333</td>\n",
       "      <td>845.0</td>\n",
       "      <td>2.560606</td>\n",
       "      <td>39.48</td>\n",
       "      <td>-121.09</td>\n",
       "    </tr>\n",
       "    <tr>\n",
       "      <th>20636</th>\n",
       "      <td>2.5568</td>\n",
       "      <td>18.0</td>\n",
       "      <td>6.114035</td>\n",
       "      <td>1.315789</td>\n",
       "      <td>356.0</td>\n",
       "      <td>3.122807</td>\n",
       "      <td>39.49</td>\n",
       "      <td>-121.21</td>\n",
       "    </tr>\n",
       "    <tr>\n",
       "      <th>20637</th>\n",
       "      <td>1.7000</td>\n",
       "      <td>17.0</td>\n",
       "      <td>5.205543</td>\n",
       "      <td>1.120092</td>\n",
       "      <td>1007.0</td>\n",
       "      <td>2.325635</td>\n",
       "      <td>39.43</td>\n",
       "      <td>-121.22</td>\n",
       "    </tr>\n",
       "    <tr>\n",
       "      <th>20638</th>\n",
       "      <td>1.8672</td>\n",
       "      <td>18.0</td>\n",
       "      <td>5.329513</td>\n",
       "      <td>1.171920</td>\n",
       "      <td>741.0</td>\n",
       "      <td>2.123209</td>\n",
       "      <td>39.43</td>\n",
       "      <td>-121.32</td>\n",
       "    </tr>\n",
       "    <tr>\n",
       "      <th>20639</th>\n",
       "      <td>2.3886</td>\n",
       "      <td>16.0</td>\n",
       "      <td>5.254717</td>\n",
       "      <td>1.162264</td>\n",
       "      <td>1387.0</td>\n",
       "      <td>2.616981</td>\n",
       "      <td>39.37</td>\n",
       "      <td>-121.24</td>\n",
       "    </tr>\n",
       "  </tbody>\n",
       "</table>\n",
       "<p>20640 rows × 8 columns</p>\n",
       "</div>"
      ],
      "text/plain": [
       "       MedInc  HouseAge  AveRooms  AveBedrms  Population  AveOccup  Latitude  \\\n",
       "0      8.3252      41.0  6.984127   1.023810       322.0  2.555556     37.88   \n",
       "1      8.3014      21.0  6.238137   0.971880      2401.0  2.109842     37.86   \n",
       "2      7.2574      52.0  8.288136   1.073446       496.0  2.802260     37.85   \n",
       "3      5.6431      52.0  5.817352   1.073059       558.0  2.547945     37.85   \n",
       "4      3.8462      52.0  6.281853   1.081081       565.0  2.181467     37.85   \n",
       "...       ...       ...       ...        ...         ...       ...       ...   \n",
       "20635  1.5603      25.0  5.045455   1.133333       845.0  2.560606     39.48   \n",
       "20636  2.5568      18.0  6.114035   1.315789       356.0  3.122807     39.49   \n",
       "20637  1.7000      17.0  5.205543   1.120092      1007.0  2.325635     39.43   \n",
       "20638  1.8672      18.0  5.329513   1.171920       741.0  2.123209     39.43   \n",
       "20639  2.3886      16.0  5.254717   1.162264      1387.0  2.616981     39.37   \n",
       "\n",
       "       Longitude  \n",
       "0        -122.23  \n",
       "1        -122.22  \n",
       "2        -122.24  \n",
       "3        -122.25  \n",
       "4        -122.25  \n",
       "...          ...  \n",
       "20635    -121.09  \n",
       "20636    -121.21  \n",
       "20637    -121.22  \n",
       "20638    -121.32  \n",
       "20639    -121.24  \n",
       "\n",
       "[20640 rows x 8 columns]"
      ]
     },
     "execution_count": 6,
     "metadata": {},
     "output_type": "execute_result"
    }
   ],
   "source": [
    "ca_housing"
   ]
  },
  {
   "cell_type": "code",
   "execution_count": 7,
   "id": "936fc3b1",
   "metadata": {},
   "outputs": [],
   "source": [
    "value = california.target"
   ]
  },
  {
   "cell_type": "code",
   "execution_count": 8,
   "id": "a1110de1",
   "metadata": {},
   "outputs": [],
   "source": [
    "ca_housing['value'] = value"
   ]
  },
  {
   "cell_type": "code",
   "execution_count": 9,
   "id": "dfc481ec",
   "metadata": {},
   "outputs": [
    {
     "data": {
      "text/html": [
       "<div>\n",
       "<style scoped>\n",
       "    .dataframe tbody tr th:only-of-type {\n",
       "        vertical-align: middle;\n",
       "    }\n",
       "\n",
       "    .dataframe tbody tr th {\n",
       "        vertical-align: top;\n",
       "    }\n",
       "\n",
       "    .dataframe thead th {\n",
       "        text-align: right;\n",
       "    }\n",
       "</style>\n",
       "<table border=\"1\" class=\"dataframe\">\n",
       "  <thead>\n",
       "    <tr style=\"text-align: right;\">\n",
       "      <th></th>\n",
       "      <th>MedInc</th>\n",
       "      <th>HouseAge</th>\n",
       "      <th>AveRooms</th>\n",
       "      <th>AveBedrms</th>\n",
       "      <th>Population</th>\n",
       "      <th>AveOccup</th>\n",
       "      <th>Latitude</th>\n",
       "      <th>Longitude</th>\n",
       "      <th>value</th>\n",
       "    </tr>\n",
       "  </thead>\n",
       "  <tbody>\n",
       "    <tr>\n",
       "      <th>0</th>\n",
       "      <td>8.3252</td>\n",
       "      <td>41.0</td>\n",
       "      <td>6.984127</td>\n",
       "      <td>1.023810</td>\n",
       "      <td>322.0</td>\n",
       "      <td>2.555556</td>\n",
       "      <td>37.88</td>\n",
       "      <td>-122.23</td>\n",
       "      <td>4.526</td>\n",
       "    </tr>\n",
       "    <tr>\n",
       "      <th>1</th>\n",
       "      <td>8.3014</td>\n",
       "      <td>21.0</td>\n",
       "      <td>6.238137</td>\n",
       "      <td>0.971880</td>\n",
       "      <td>2401.0</td>\n",
       "      <td>2.109842</td>\n",
       "      <td>37.86</td>\n",
       "      <td>-122.22</td>\n",
       "      <td>3.585</td>\n",
       "    </tr>\n",
       "    <tr>\n",
       "      <th>2</th>\n",
       "      <td>7.2574</td>\n",
       "      <td>52.0</td>\n",
       "      <td>8.288136</td>\n",
       "      <td>1.073446</td>\n",
       "      <td>496.0</td>\n",
       "      <td>2.802260</td>\n",
       "      <td>37.85</td>\n",
       "      <td>-122.24</td>\n",
       "      <td>3.521</td>\n",
       "    </tr>\n",
       "    <tr>\n",
       "      <th>3</th>\n",
       "      <td>5.6431</td>\n",
       "      <td>52.0</td>\n",
       "      <td>5.817352</td>\n",
       "      <td>1.073059</td>\n",
       "      <td>558.0</td>\n",
       "      <td>2.547945</td>\n",
       "      <td>37.85</td>\n",
       "      <td>-122.25</td>\n",
       "      <td>3.413</td>\n",
       "    </tr>\n",
       "    <tr>\n",
       "      <th>4</th>\n",
       "      <td>3.8462</td>\n",
       "      <td>52.0</td>\n",
       "      <td>6.281853</td>\n",
       "      <td>1.081081</td>\n",
       "      <td>565.0</td>\n",
       "      <td>2.181467</td>\n",
       "      <td>37.85</td>\n",
       "      <td>-122.25</td>\n",
       "      <td>3.422</td>\n",
       "    </tr>\n",
       "    <tr>\n",
       "      <th>...</th>\n",
       "      <td>...</td>\n",
       "      <td>...</td>\n",
       "      <td>...</td>\n",
       "      <td>...</td>\n",
       "      <td>...</td>\n",
       "      <td>...</td>\n",
       "      <td>...</td>\n",
       "      <td>...</td>\n",
       "      <td>...</td>\n",
       "    </tr>\n",
       "    <tr>\n",
       "      <th>20635</th>\n",
       "      <td>1.5603</td>\n",
       "      <td>25.0</td>\n",
       "      <td>5.045455</td>\n",
       "      <td>1.133333</td>\n",
       "      <td>845.0</td>\n",
       "      <td>2.560606</td>\n",
       "      <td>39.48</td>\n",
       "      <td>-121.09</td>\n",
       "      <td>0.781</td>\n",
       "    </tr>\n",
       "    <tr>\n",
       "      <th>20636</th>\n",
       "      <td>2.5568</td>\n",
       "      <td>18.0</td>\n",
       "      <td>6.114035</td>\n",
       "      <td>1.315789</td>\n",
       "      <td>356.0</td>\n",
       "      <td>3.122807</td>\n",
       "      <td>39.49</td>\n",
       "      <td>-121.21</td>\n",
       "      <td>0.771</td>\n",
       "    </tr>\n",
       "    <tr>\n",
       "      <th>20637</th>\n",
       "      <td>1.7000</td>\n",
       "      <td>17.0</td>\n",
       "      <td>5.205543</td>\n",
       "      <td>1.120092</td>\n",
       "      <td>1007.0</td>\n",
       "      <td>2.325635</td>\n",
       "      <td>39.43</td>\n",
       "      <td>-121.22</td>\n",
       "      <td>0.923</td>\n",
       "    </tr>\n",
       "    <tr>\n",
       "      <th>20638</th>\n",
       "      <td>1.8672</td>\n",
       "      <td>18.0</td>\n",
       "      <td>5.329513</td>\n",
       "      <td>1.171920</td>\n",
       "      <td>741.0</td>\n",
       "      <td>2.123209</td>\n",
       "      <td>39.43</td>\n",
       "      <td>-121.32</td>\n",
       "      <td>0.847</td>\n",
       "    </tr>\n",
       "    <tr>\n",
       "      <th>20639</th>\n",
       "      <td>2.3886</td>\n",
       "      <td>16.0</td>\n",
       "      <td>5.254717</td>\n",
       "      <td>1.162264</td>\n",
       "      <td>1387.0</td>\n",
       "      <td>2.616981</td>\n",
       "      <td>39.37</td>\n",
       "      <td>-121.24</td>\n",
       "      <td>0.894</td>\n",
       "    </tr>\n",
       "  </tbody>\n",
       "</table>\n",
       "<p>20640 rows × 9 columns</p>\n",
       "</div>"
      ],
      "text/plain": [
       "       MedInc  HouseAge  AveRooms  AveBedrms  Population  AveOccup  Latitude  \\\n",
       "0      8.3252      41.0  6.984127   1.023810       322.0  2.555556     37.88   \n",
       "1      8.3014      21.0  6.238137   0.971880      2401.0  2.109842     37.86   \n",
       "2      7.2574      52.0  8.288136   1.073446       496.0  2.802260     37.85   \n",
       "3      5.6431      52.0  5.817352   1.073059       558.0  2.547945     37.85   \n",
       "4      3.8462      52.0  6.281853   1.081081       565.0  2.181467     37.85   \n",
       "...       ...       ...       ...        ...         ...       ...       ...   \n",
       "20635  1.5603      25.0  5.045455   1.133333       845.0  2.560606     39.48   \n",
       "20636  2.5568      18.0  6.114035   1.315789       356.0  3.122807     39.49   \n",
       "20637  1.7000      17.0  5.205543   1.120092      1007.0  2.325635     39.43   \n",
       "20638  1.8672      18.0  5.329513   1.171920       741.0  2.123209     39.43   \n",
       "20639  2.3886      16.0  5.254717   1.162264      1387.0  2.616981     39.37   \n",
       "\n",
       "       Longitude  value  \n",
       "0        -122.23  4.526  \n",
       "1        -122.22  3.585  \n",
       "2        -122.24  3.521  \n",
       "3        -122.25  3.413  \n",
       "4        -122.25  3.422  \n",
       "...          ...    ...  \n",
       "20635    -121.09  0.781  \n",
       "20636    -121.21  0.771  \n",
       "20637    -121.22  0.923  \n",
       "20638    -121.32  0.847  \n",
       "20639    -121.24  0.894  \n",
       "\n",
       "[20640 rows x 9 columns]"
      ]
     },
     "execution_count": 9,
     "metadata": {},
     "output_type": "execute_result"
    }
   ],
   "source": [
    "ca_housing"
   ]
  },
  {
   "cell_type": "code",
   "execution_count": 10,
   "id": "b70d140f",
   "metadata": {},
   "outputs": [],
   "source": [
    "cols = ca_housing.columns\n",
    "corr_matrix = np.corrcoef(ca_housing[cols], rowvar = False)"
   ]
  },
  {
   "cell_type": "code",
   "execution_count": 11,
   "id": "bfaa9a0e",
   "metadata": {},
   "outputs": [],
   "source": [
    "correlations = pd.DataFrame(corr_matrix, columns = cols, index = cols)"
   ]
  },
  {
   "cell_type": "code",
   "execution_count": 12,
   "id": "10ba7b83",
   "metadata": {},
   "outputs": [
    {
     "data": {
      "text/html": [
       "<div>\n",
       "<style scoped>\n",
       "    .dataframe tbody tr th:only-of-type {\n",
       "        vertical-align: middle;\n",
       "    }\n",
       "\n",
       "    .dataframe tbody tr th {\n",
       "        vertical-align: top;\n",
       "    }\n",
       "\n",
       "    .dataframe thead th {\n",
       "        text-align: right;\n",
       "    }\n",
       "</style>\n",
       "<table border=\"1\" class=\"dataframe\">\n",
       "  <thead>\n",
       "    <tr style=\"text-align: right;\">\n",
       "      <th></th>\n",
       "      <th>MedInc</th>\n",
       "      <th>HouseAge</th>\n",
       "      <th>AveRooms</th>\n",
       "      <th>AveBedrms</th>\n",
       "      <th>Population</th>\n",
       "      <th>AveOccup</th>\n",
       "      <th>Latitude</th>\n",
       "      <th>Longitude</th>\n",
       "      <th>value</th>\n",
       "    </tr>\n",
       "  </thead>\n",
       "  <tbody>\n",
       "    <tr>\n",
       "      <th>MedInc</th>\n",
       "      <td>1.000000</td>\n",
       "      <td>-0.119034</td>\n",
       "      <td>0.326895</td>\n",
       "      <td>-0.062040</td>\n",
       "      <td>0.004834</td>\n",
       "      <td>0.018766</td>\n",
       "      <td>-0.079809</td>\n",
       "      <td>-0.015176</td>\n",
       "      <td>0.688075</td>\n",
       "    </tr>\n",
       "    <tr>\n",
       "      <th>HouseAge</th>\n",
       "      <td>-0.119034</td>\n",
       "      <td>1.000000</td>\n",
       "      <td>-0.153277</td>\n",
       "      <td>-0.077747</td>\n",
       "      <td>-0.296244</td>\n",
       "      <td>0.013191</td>\n",
       "      <td>0.011173</td>\n",
       "      <td>-0.108197</td>\n",
       "      <td>0.105623</td>\n",
       "    </tr>\n",
       "    <tr>\n",
       "      <th>AveRooms</th>\n",
       "      <td>0.326895</td>\n",
       "      <td>-0.153277</td>\n",
       "      <td>1.000000</td>\n",
       "      <td>0.847621</td>\n",
       "      <td>-0.072213</td>\n",
       "      <td>-0.004852</td>\n",
       "      <td>0.106389</td>\n",
       "      <td>-0.027540</td>\n",
       "      <td>0.151948</td>\n",
       "    </tr>\n",
       "    <tr>\n",
       "      <th>AveBedrms</th>\n",
       "      <td>-0.062040</td>\n",
       "      <td>-0.077747</td>\n",
       "      <td>0.847621</td>\n",
       "      <td>1.000000</td>\n",
       "      <td>-0.066197</td>\n",
       "      <td>-0.006181</td>\n",
       "      <td>0.069721</td>\n",
       "      <td>0.013344</td>\n",
       "      <td>-0.046701</td>\n",
       "    </tr>\n",
       "    <tr>\n",
       "      <th>Population</th>\n",
       "      <td>0.004834</td>\n",
       "      <td>-0.296244</td>\n",
       "      <td>-0.072213</td>\n",
       "      <td>-0.066197</td>\n",
       "      <td>1.000000</td>\n",
       "      <td>0.069863</td>\n",
       "      <td>-0.108785</td>\n",
       "      <td>0.099773</td>\n",
       "      <td>-0.024650</td>\n",
       "    </tr>\n",
       "    <tr>\n",
       "      <th>AveOccup</th>\n",
       "      <td>0.018766</td>\n",
       "      <td>0.013191</td>\n",
       "      <td>-0.004852</td>\n",
       "      <td>-0.006181</td>\n",
       "      <td>0.069863</td>\n",
       "      <td>1.000000</td>\n",
       "      <td>0.002366</td>\n",
       "      <td>0.002476</td>\n",
       "      <td>-0.023737</td>\n",
       "    </tr>\n",
       "    <tr>\n",
       "      <th>Latitude</th>\n",
       "      <td>-0.079809</td>\n",
       "      <td>0.011173</td>\n",
       "      <td>0.106389</td>\n",
       "      <td>0.069721</td>\n",
       "      <td>-0.108785</td>\n",
       "      <td>0.002366</td>\n",
       "      <td>1.000000</td>\n",
       "      <td>-0.924664</td>\n",
       "      <td>-0.144160</td>\n",
       "    </tr>\n",
       "    <tr>\n",
       "      <th>Longitude</th>\n",
       "      <td>-0.015176</td>\n",
       "      <td>-0.108197</td>\n",
       "      <td>-0.027540</td>\n",
       "      <td>0.013344</td>\n",
       "      <td>0.099773</td>\n",
       "      <td>0.002476</td>\n",
       "      <td>-0.924664</td>\n",
       "      <td>1.000000</td>\n",
       "      <td>-0.045967</td>\n",
       "    </tr>\n",
       "    <tr>\n",
       "      <th>value</th>\n",
       "      <td>0.688075</td>\n",
       "      <td>0.105623</td>\n",
       "      <td>0.151948</td>\n",
       "      <td>-0.046701</td>\n",
       "      <td>-0.024650</td>\n",
       "      <td>-0.023737</td>\n",
       "      <td>-0.144160</td>\n",
       "      <td>-0.045967</td>\n",
       "      <td>1.000000</td>\n",
       "    </tr>\n",
       "  </tbody>\n",
       "</table>\n",
       "</div>"
      ],
      "text/plain": [
       "              MedInc  HouseAge  AveRooms  AveBedrms  Population  AveOccup  \\\n",
       "MedInc      1.000000 -0.119034  0.326895  -0.062040    0.004834  0.018766   \n",
       "HouseAge   -0.119034  1.000000 -0.153277  -0.077747   -0.296244  0.013191   \n",
       "AveRooms    0.326895 -0.153277  1.000000   0.847621   -0.072213 -0.004852   \n",
       "AveBedrms  -0.062040 -0.077747  0.847621   1.000000   -0.066197 -0.006181   \n",
       "Population  0.004834 -0.296244 -0.072213  -0.066197    1.000000  0.069863   \n",
       "AveOccup    0.018766  0.013191 -0.004852  -0.006181    0.069863  1.000000   \n",
       "Latitude   -0.079809  0.011173  0.106389   0.069721   -0.108785  0.002366   \n",
       "Longitude  -0.015176 -0.108197 -0.027540   0.013344    0.099773  0.002476   \n",
       "value       0.688075  0.105623  0.151948  -0.046701   -0.024650 -0.023737   \n",
       "\n",
       "            Latitude  Longitude     value  \n",
       "MedInc     -0.079809  -0.015176  0.688075  \n",
       "HouseAge    0.011173  -0.108197  0.105623  \n",
       "AveRooms    0.106389  -0.027540  0.151948  \n",
       "AveBedrms   0.069721   0.013344 -0.046701  \n",
       "Population -0.108785   0.099773 -0.024650  \n",
       "AveOccup    0.002366   0.002476 -0.023737  \n",
       "Latitude    1.000000  -0.924664 -0.144160  \n",
       "Longitude  -0.924664   1.000000 -0.045967  \n",
       "value      -0.144160  -0.045967  1.000000  "
      ]
     },
     "execution_count": 12,
     "metadata": {},
     "output_type": "execute_result"
    }
   ],
   "source": [
    "correlations"
   ]
  },
  {
   "cell_type": "code",
   "execution_count": 188,
   "id": "6100c8f0",
   "metadata": {},
   "outputs": [
    {
     "data": {
      "image/png": "[encoded data removed]",
      "text/plain": [
       "<Figure size 432x288 with 2 Axes>"
      ]
     },
     "metadata": {
      "needs_background": "light"
     },
     "output_type": "display_data"
    }
   ],
   "source": [
    "sns.heatmap(corr_matrix, cmap='jet', vmin=-1, vmax=1,\n",
    "            annot=True, fmt='.2f', xticklabels=cols, yticklabels=cols)\n",
    "plt.show()"
   ]
  },
  {
   "cell_type": "code",
   "execution_count": 13,
   "id": "94f84d1f",
   "metadata": {},
   "outputs": [],
   "source": [
    "#23 "
   ]
  },
  {
   "cell_type": "code",
   "execution_count": null,
   "id": "a7db4b61",
   "metadata": {},
   "outputs": [],
   "source": [
    "X"
   ]
  },
  {
   "cell_type": "code",
   "execution_count": 38,
   "id": "82f0b8b7",
   "metadata": {},
   "outputs": [
    {
     "data": {
      "text/plain": [
       "array([4.526, 3.585, 3.521, ..., 0.923, 0.847, 0.894])"
      ]
     },
     "execution_count": 38,
     "metadata": {},
     "output_type": "execute_result"
    }
   ],
   "source": [
    "X_1 = pd.DataFrame(ca_housing['MedInc'])\n",
    "y_1 = ca_housing['value'].values\n",
    "y_1"
   ]
  },
  {
   "cell_type": "code",
   "execution_count": 33,
   "id": "3bdb4f4d",
   "metadata": {},
   "outputs": [
    {
     "data": {
      "text/plain": [
       "LinearRegression()"
      ]
     },
     "execution_count": 33,
     "metadata": {},
     "output_type": "execute_result"
    }
   ],
   "source": [
    "from sklearn.linear_model import LinearRegression as LR\n",
    "lin_reg = LR()\n",
    "lin_reg.fit(X_1,y_1)"
   ]
  },
  {
   "cell_type": "code",
   "execution_count": 34,
   "id": "61b4d59b",
   "metadata": {},
   "outputs": [
    {
     "data": {
      "text/plain": [
       "0.47344749180719903"
      ]
     },
     "execution_count": 34,
     "metadata": {},
     "output_type": "execute_result"
    }
   ],
   "source": [
    "lin_reg.score(X_1, y_1)"
   ]
  },
  {
   "cell_type": "code",
   "execution_count": 35,
   "id": "7eb77d03",
   "metadata": {},
   "outputs": [],
   "source": [
    "#24"
   ]
  },
  {
   "cell_type": "code",
   "execution_count": 193,
   "id": "f08c85a1",
   "metadata": {},
   "outputs": [],
   "source": [
    "X = np.array(ca_housing.drop(columns = ['value']))  #features\n",
    "y = np.array(ca_housing['value'].values) #target"
   ]
  },
  {
   "cell_type": "code",
   "execution_count": 197,
   "id": "288f3b7b",
   "metadata": {},
   "outputs": [
    {
     "data": {
      "text/plain": [
       "LinearRegression()"
      ]
     },
     "execution_count": 197,
     "metadata": {},
     "output_type": "execute_result"
    }
   ],
   "source": [
    "from sklearn.linear_model import LinearRegression as LR\n",
    "lin_reg_2 = LR()\n",
    "lin_reg_2.fit(X,y)"
   ]
  },
  {
   "cell_type": "code",
   "execution_count": 198,
   "id": "0679ec07",
   "metadata": {},
   "outputs": [],
   "source": [
    "#standardize\n",
    "from sklearn.preprocessing import StandardScaler as SS\n",
    "\n",
    "ss = SS()\n",
    "standard_features = ss.fit_transform(X)"
   ]
  },
  {
   "cell_type": "code",
   "execution_count": 200,
   "id": "5dbff66b",
   "metadata": {},
   "outputs": [],
   "source": [
    "#kfold\n",
    "from sklearn.model_selection import KFold\n",
    "kf = KFold(n_splits = 20, random_state=146, shuffle=True) #n_splits is num of splits in data \n",
    "\n",
    "\n",
    "train_scores = []\n",
    "validation_scores = []\n",
    "\n",
    "for idxTrain,idxValid in kf.split(X):\n",
    "    #print(idxTrain)\n",
    "    #print(idxValid)\n",
    "    #break\n",
    "    \n",
    "    #Get train and validation data by indices\n",
    "    Xtrain = X[idxTrain,:]\n",
    "    Xvalid = X[idxValid,:]\n",
    "    ytrain = y[idxTrain]\n",
    "    yvalid = y[idxValid]\n",
    "    \n",
    "    lin_reg.fit(Xtrain,ytrain)\n",
    "    \n",
    "    #Store R^2 of train and validation sets\n",
    "    train_scores.append(lin_reg.score(Xtrain,ytrain))\n",
    "    validation_scores.append(lin_reg.score(Xvalid,yvalid))"
   ]
  },
  {
   "cell_type": "code",
   "execution_count": 201,
   "id": "be041f0d",
   "metadata": {},
   "outputs": [
    {
     "data": {
      "text/plain": [
       "[0.6051968874728961,\n",
       " 0.6040399464423155,\n",
       " 0.605304372429615,\n",
       " 0.6041118072724055,\n",
       " 0.6060011354950146,\n",
       " 0.6072191194690411,\n",
       " 0.6058945913990867,\n",
       " 0.6072131380060849,\n",
       " 0.6079456895973652,\n",
       " 0.6077750829688184,\n",
       " 0.6052005993288505,\n",
       " 0.6052498226717801,\n",
       " 0.6046124968187061,\n",
       " 0.6081486610264375,\n",
       " 0.6091919871643536,\n",
       " 0.6060699726486898,\n",
       " 0.6067573069434136,\n",
       " 0.6064119024435517,\n",
       " 0.6058203993906672,\n",
       " 0.6078734464464107]"
      ]
     },
     "execution_count": 201,
     "metadata": {},
     "output_type": "execute_result"
    }
   ],
   "source": [
    "train_scores"
   ]
  },
  {
   "cell_type": "code",
   "execution_count": 208,
   "id": "7009ca8a",
   "metadata": {},
   "outputs": [
    {
     "data": {
      "text/plain": [
       "[0.624393739531627,\n",
       " 0.6424592715769883,\n",
       " 0.6171199447989411,\n",
       " 0.6441223986273859,\n",
       " 0.609908261068911,\n",
       " 0.5812984250646467,\n",
       " 0.6126187614521791,\n",
       " 0.5848082484891223,\n",
       " 0.5745996380036407,\n",
       " 0.573870773737114,\n",
       " 0.6273331911470617,\n",
       " 0.6251790694166438,\n",
       " 0.6344309467502725,\n",
       " 0.5687622152100993,\n",
       " 0.5247742621708913,\n",
       " 0.6087039502715305,\n",
       " 0.5958498062235187,\n",
       " 0.6017996487357951,\n",
       " 0.6133318743274649,\n",
       " 0.5742374144055402]"
      ]
     },
     "execution_count": 208,
     "metadata": {},
     "output_type": "execute_result"
    }
   ],
   "source": [
    "validation_scores"
   ]
  },
  {
   "cell_type": "code",
   "execution_count": 210,
   "id": "c430f7ca",
   "metadata": {},
   "outputs": [
    {
     "name": "stdout",
     "output_type": "stream",
     "text": [
      "Average for train: 0.61\n",
      "Average for validation: 0.6019800920504688\n"
     ]
    }
   ],
   "source": [
    "#Print average R^2 values\n",
    "\n",
    "print('Average for train:', format(np.mean(train_scores),'.2f'))\n",
    "print('Average for validation:', format(np.mean(validation_scores), ))"
   ]
  },
  {
   "cell_type": "code",
   "execution_count": 138,
   "id": "b40cbb13",
   "metadata": {},
   "outputs": [],
   "source": [
    "#25"
   ]
  },
  {
   "cell_type": "code",
   "execution_count": 139,
   "id": "5c3426f3",
   "metadata": {},
   "outputs": [],
   "source": [
    "from sklearn.linear_model import Ridge\n",
    "from sklearn.preprocessing import StandardScaler as SS"
   ]
  },
  {
   "cell_type": "code",
   "execution_count": 145,
   "id": "be8773d6",
   "metadata": {},
   "outputs": [],
   "source": []
  },
  {
   "cell_type": "code",
   "execution_count": 155,
   "id": "7469a652",
   "metadata": {},
   "outputs": [],
   "source": [
    "def do_Kfold(model, X, y, k, scaler = None, random_state = 146):\n",
    "\n",
    "    from sklearn.model_selection import KFold\n",
    "\n",
    "    train_scores = []\n",
    "    validation_scores = []\n",
    "    \n",
    "    kf = KFold(n_splits = k, random_state = random_state, shuffle = True)\n",
    "    \n",
    "    for idxTrain,idxValid in kf.split(X):\n",
    "        Xtrain = X[idxTrain,:]\n",
    "        Xvalid = X[idxValid, :]\n",
    "        ytrain = y[idxTrain]\n",
    "        yvalid = y[idxValid]\n",
    "    \n",
    "        if scaler is not None:\n",
    "            Xtrain = scaler.transform(Xtrain)\n",
    "            Xvalid = scaler.transform(Xvalid)\n",
    "        \n",
    "        model.fit(Xtrain, ytrain)\n",
    "    \n",
    "        train_scores.append(model.score(Xtrain, ytrain))\n",
    "        validation_scores.append(model.score(Xvalid, yvalid))\n",
    "    \n",
    "    return train_scores, validation_scores"
   ]
  },
  {
   "cell_type": "code",
   "execution_count": 156,
   "id": "d8899432",
   "metadata": {},
   "outputs": [],
   "source": [
    "#fit\n",
    "from sklearn.preprocessing import StandardScaler as SS\n",
    "\n",
    "ss_1 = SS() \n",
    "standard_features = ss.fit_transform(X)\n",
    "\n",
    "#ridge regression \n",
    "\n",
    "a_range = np.linspace(30,50,101)\n",
    "k = 20\n",
    "ss_1 = SS()\n",
    "\n",
    "avg_tr_score=[]\n",
    "avg_te_score=[]\n",
    "\n",
    "for a in a_range:\n",
    "    rid_reg = Ridge(alpha=a)\n",
    "    train_scores, test_scores = do_Kfold(rid_reg, X, y, k, ss)\n",
    "    \n",
    "    avg_tr_score.append(np.mean(train_scores))\n",
    "    avg_te_score.append(np.mean(test_scores))"
   ]
  },
  {
   "cell_type": "code",
   "execution_count": 157,
   "id": "482f0982",
   "metadata": {},
   "outputs": [
    {
     "name": "stdout",
     "output_type": "stream",
     "text": [
      "Optimal alpha in the range tested:  37.2\n",
      "Avg. training score at this value:  0.6062381442878179\n",
      "Avg. testing score at this value:  0.6020449253457716\n"
     ]
    }
   ],
   "source": [
    "idx_max = np.argmax(avg_te_score)\n",
    "\n",
    "print('Optimal alpha in the range tested: ', a_range[idx_max])\n",
    "print('Avg. training score at this value: ', avg_tr_score[idx_max])\n",
    "print('Avg. testing score at this value: ', avg_te_score[idx_max])"
   ]
  },
  {
   "cell_type": "code",
   "execution_count": null,
   "id": "b55b77c5",
   "metadata": {},
   "outputs": [],
   "source": [
    "#26"
   ]
  },
  {
   "cell_type": "code",
   "execution_count": 159,
   "id": "1bb2ccdf",
   "metadata": {},
   "outputs": [],
   "source": [
    "from sklearn.linear_model import Lasso"
   ]
  },
  {
   "cell_type": "code",
   "execution_count": 160,
   "id": "637fa74d",
   "metadata": {},
   "outputs": [],
   "source": [
    "a_range = np.linspace(0.001,0.003,101)\n",
    "k = 20\n",
    "ss_2 = SS()\n",
    "\n",
    "avg_tr_score=[]\n",
    "avg_te_score=[]\n",
    "\n",
    "for a in a_range:\n",
    "    las_reg = Lasso(alpha=a)\n",
    "    train_scores, test_scores = do_Kfold(las_reg, X, y, k, ss)\n",
    "    \n",
    "    avg_tr_score.append(np.mean(train_scores))\n",
    "    avg_te_score.append(np.mean(test_scores))"
   ]
  },
  {
   "cell_type": "code",
   "execution_count": 161,
   "id": "ba8527e7",
   "metadata": {},
   "outputs": [
    {
     "name": "stdout",
     "output_type": "stream",
     "text": [
      "Optimal alpha in the range tested:  0.00254\n",
      "Avg. training score at this value:  0.6060302720196982\n",
      "Avg. testing score at this value:  0.6022557269707828\n"
     ]
    }
   ],
   "source": [
    "# find the optimal alpha and its corresponding scores\n",
    "\n",
    "idx_max = np.argmax(avg_te_score)\n",
    "\n",
    "print('Optimal alpha in the range tested: ', a_range[idx_max])\n",
    "print('Avg. training score at this value: ', avg_tr_score[idx_max])\n",
    "print('Avg. testing score at this value: ', avg_te_score[idx_max])"
   ]
  },
  {
   "cell_type": "code",
   "execution_count": null,
   "id": "b7aa56e8",
   "metadata": {},
   "outputs": [],
   "source": [
    "#27"
   ]
  },
  {
   "cell_type": "code",
   "execution_count": 202,
   "id": "10b8fb4b",
   "metadata": {},
   "outputs": [
    {
     "data": {
      "text/plain": [
       "array([ 0.8296193 ,  0.11875165, -0.26552688,  0.30569623, -0.004503  ,\n",
       "       -0.03932627, -0.89988565, -0.870541  ])"
      ]
     },
     "execution_count": 202,
     "metadata": {},
     "output_type": "execute_result"
    }
   ],
   "source": [
    "# fit an OLS model and get coefficients\n",
    "\n",
    "Xs = ss.fit_transform(X)\n",
    "lin_reg.fit(Xs,y)\n",
    "lin_coefs = lin_reg.coef_ #is this right??\n",
    "lin_coefs"
   ]
  },
  {
   "cell_type": "code",
   "execution_count": 205,
   "id": "a218906c",
   "metadata": {},
   "outputs": [
    {
     "data": {
      "text/plain": [
       "array([ 0.82854158,  0.12109882, -0.26064626,  0.29932806, -0.00367652,\n",
       "       -0.0394482 , -0.87751244, -0.84795017])"
      ]
     },
     "execution_count": 205,
     "metadata": {},
     "output_type": "execute_result"
    }
   ],
   "source": [
    "# fit a Ridge model and get coefficients\n",
    "\n",
    "rid_reg = Ridge(alpha = 37.2)\n",
    "rid_reg.fit(Xs, y)\n",
    "rid_coefs = rid_reg.coef_\n",
    "rid_coefs"
   ]
  },
  {
   "cell_type": "code",
   "execution_count": 206,
   "id": "8bda2cc9",
   "metadata": {},
   "outputs": [
    {
     "data": {
      "text/plain": [
       "array([ 0.81647873,  0.1210862 , -0.23090467,  0.27111471, -0.00107098,\n",
       "       -0.03699293, -0.87245539, -0.84151728])"
      ]
     },
     "execution_count": 206,
     "metadata": {},
     "output_type": "execute_result"
    }
   ],
   "source": [
    "# find the coefficients of the Lasso model with the optimal alpha\n",
    "las_reg = Lasso(alpha = 0.00254)\n",
    "las_reg.fit(Xs, y)\n",
    "las_coefs =las_reg.coef_\n",
    "las_coefs"
   ]
  },
  {
   "cell_type": "code",
   "execution_count": 207,
   "id": "5fa53026",
   "metadata": {},
   "outputs": [
    {
     "data": {
      "text/html": [
       "<div>\n",
       "<style scoped>\n",
       "    .dataframe tbody tr th:only-of-type {\n",
       "        vertical-align: middle;\n",
       "    }\n",
       "\n",
       "    .dataframe tbody tr th {\n",
       "        vertical-align: top;\n",
       "    }\n",
       "\n",
       "    .dataframe thead th {\n",
       "        text-align: right;\n",
       "    }\n",
       "</style>\n",
       "<table border=\"1\" class=\"dataframe\">\n",
       "  <thead>\n",
       "    <tr style=\"text-align: right;\">\n",
       "      <th></th>\n",
       "      <th>OLS</th>\n",
       "      <th>Ridge</th>\n",
       "      <th>Lasso</th>\n",
       "    </tr>\n",
       "  </thead>\n",
       "  <tbody>\n",
       "    <tr>\n",
       "      <th>MedInc</th>\n",
       "      <td>0.829619</td>\n",
       "      <td>0.828542</td>\n",
       "      <td>0.816479</td>\n",
       "    </tr>\n",
       "    <tr>\n",
       "      <th>HouseAge</th>\n",
       "      <td>0.118752</td>\n",
       "      <td>0.121099</td>\n",
       "      <td>0.121086</td>\n",
       "    </tr>\n",
       "    <tr>\n",
       "      <th>AveRooms</th>\n",
       "      <td>-0.265527</td>\n",
       "      <td>-0.260646</td>\n",
       "      <td>-0.230905</td>\n",
       "    </tr>\n",
       "    <tr>\n",
       "      <th>AveBedrms</th>\n",
       "      <td>0.305696</td>\n",
       "      <td>0.299328</td>\n",
       "      <td>0.271115</td>\n",
       "    </tr>\n",
       "    <tr>\n",
       "      <th>Population</th>\n",
       "      <td>-0.004503</td>\n",
       "      <td>-0.003677</td>\n",
       "      <td>-0.001071</td>\n",
       "    </tr>\n",
       "    <tr>\n",
       "      <th>AveOccup</th>\n",
       "      <td>-0.039326</td>\n",
       "      <td>-0.039448</td>\n",
       "      <td>-0.036993</td>\n",
       "    </tr>\n",
       "    <tr>\n",
       "      <th>Latitude</th>\n",
       "      <td>-0.899886</td>\n",
       "      <td>-0.877512</td>\n",
       "      <td>-0.872455</td>\n",
       "    </tr>\n",
       "    <tr>\n",
       "      <th>Longitude</th>\n",
       "      <td>-0.870541</td>\n",
       "      <td>-0.847950</td>\n",
       "      <td>-0.841517</td>\n",
       "    </tr>\n",
       "  </tbody>\n",
       "</table>\n",
       "</div>"
      ],
      "text/plain": [
       "                 OLS     Ridge     Lasso\n",
       "MedInc      0.829619  0.828542  0.816479\n",
       "HouseAge    0.118752  0.121099  0.121086\n",
       "AveRooms   -0.265527 -0.260646 -0.230905\n",
       "AveBedrms   0.305696  0.299328  0.271115\n",
       "Population -0.004503 -0.003677 -0.001071\n",
       "AveOccup   -0.039326 -0.039448 -0.036993\n",
       "Latitude   -0.899886 -0.877512 -0.872455\n",
       "Longitude  -0.870541 -0.847950 -0.841517"
      ]
     },
     "execution_count": 207,
     "metadata": {},
     "output_type": "execute_result"
    }
   ],
   "source": [
    "# get the side-by-side comparison of coefficients\n",
    "\n",
    "compare = pd.DataFrame(data=zip(lin_coefs,rid_coefs,las_coefs),index=ca_features.columns,\n",
    "                      columns = ['OLS','Ridge', 'Lasso'])\n",
    "compare"
   ]
  },
  {
   "cell_type": "code",
   "execution_count": null,
   "id": "6388120b",
   "metadata": {},
   "outputs": [],
   "source": []
  },
  {
   "cell_type": "code",
   "execution_count": null,
   "id": "aa34aff0",
   "metadata": {},
   "outputs": [],
   "source": []
  },
  {
   "cell_type": "code",
   "execution_count": null,
   "id": "e6e4665e",
   "metadata": {},
   "outputs": [],
   "source": []
  }
 ],
 "metadata": {
  "kernelspec": {
   "display_name": "Python 3 (ipykernel)",
   "language": "python",
   "name": "python3"
  },
  "language_info": {
   "codemirror_mode": {
    "name": "ipython",
    "version": 3
   },
   "file_extension": ".py",
   "mimetype": "text/x-python",
   "name": "python",
   "nbconvert_exporter": "python",
   "pygments_lexer": "ipython3",
   "version": "3.9.12"
  }
 },
 "nbformat": 4,
 "nbformat_minor": 5
}
